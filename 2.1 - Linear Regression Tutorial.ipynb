{
 "cells": [
  {
   "cell_type": "code",
   "execution_count": null,
   "metadata": {},
   "outputs": [],
   "source": [
    "import numpy as np\n",
    "import matplotlib.pyplot as plt\n",
    "from sklearn.model_selection import train_test_split\n",
    "from sklearn.linear_model import Ridge\n",
    "from sklearn.metrics import mean_squared_error\n",
    "import pickle\n",
    "\n",
    "plt.rc('axes', labelsize=16)\n",
    "plt.rc('xtick', labelsize=12)\n",
    "plt.rc('ytick', labelsize=12)"
   ]
  },
  {
   "cell_type": "code",
   "execution_count": null,
   "metadata": {},
   "outputs": [],
   "source": [
    "with open(\"data/linear-regression-data.pkl\", \"rb\") as f:\n",
    "    data = pickle.load(f)\n",
    "data.keys()"
   ]
  },
  {
   "cell_type": "code",
   "execution_count": null,
   "metadata": {},
   "outputs": [],
   "source": [
    "plt.scatter(data[\"length\"], data[\"force\"], c=\"k\", s=2)\n",
    "plt.xlabel(\"Length (mm)\")\n",
    "plt.ylabel(\"Normalized force (%)\")\n",
    "plt.show()"
   ]
  },
  {
   "cell_type": "code",
   "execution_count": null,
   "metadata": {},
   "outputs": [],
   "source": [
    "seed = 42\n",
    "x_train, x_test, y_train, y_test = train_test_split(data[\"length\"], data[\"force\"], random_state=seed, test_size=45)\n",
    "plt.scatter(x_train, y_train, s=2, c=\"k\", label=\"Train data\")\n",
    "plt.scatter(x_test, y_test, s=2, c=\"r\", label=\"Test data\")\n",
    "plt.xlabel(\"Length (mm)\")\n",
    "plt.ylabel(\"Normalized force (%)\")\n",
    "plt.legend()\n",
    "plt.show()"
   ]
  },
  {
   "cell_type": "markdown",
   "metadata": {},
   "source": [
    "# Section 1: Gaussian features\n",
    "\n",
    "TODO:\n",
    "- Complete the formula for the Gaussian kernel\n",
    "- Select appropriate mu and sigma for basis functions for this dataset. Use 10 basis functions\n",
    "- Train the model with sklearn Ridge regression and plot predictions\n",
    "    - Use alpha=1e-2 for all models\n",
    "- Report on the train and test error\n",
    "\n",
    "The formula for the Gaussian function, given parameters $\\mu$ and $\\sigma$, is:\n",
    "\n",
    "$$\\phi(x | \\mu, \\sigma) = e^{-\\frac{1}{2}(\\frac{x - \\mu}{\\sigma})^2}$$"
   ]
  },
  {
   "cell_type": "code",
   "execution_count": null,
   "metadata": {},
   "outputs": [],
   "source": [
    "# Basis functions\n",
    "class Gaussian:\n",
    "    def __init__(self, mu, sigma):\n",
    "        \"\"\"\n",
    "        Class to represent the a Gaussian kernel for kernel ridge regression\n",
    "\n",
    "        :param mu: mean of the Gaussian\n",
    "        :param sigma: standard deviation of the Gaussian\n",
    "        \"\"\"\n",
    "        self.mu = mu\n",
    "        self.sigma = sigma\n",
    "\n",
    "    def __call__(self, x):\n",
    "        \"\"\"\n",
    "        :param x: array of input values for the kernel function\n",
    "        :return: values of the kernel function evaluated at x\n",
    "        \"\"\"\n",
    "        # TODO: Fill in the equation for the Gaussian function\n",
    "        phi = None\n",
    "        #####\n",
    "        return phi\n",
    "    \n",
    "    def __repr__(self):\n",
    "        return f\"Gaussian(mu={self.mu:.2f}, sigma={self.sigma:.2f})\""
   ]
  },
  {
   "cell_type": "code",
   "execution_count": null,
   "metadata": {},
   "outputs": [],
   "source": [
    "# Test implementation of Gaussian basis functions, see slides for corret output\n",
    "basis_functions = [Gaussian(mu, 1) for mu in [0, 1, 2]]\n",
    "\n",
    "for basis in basis_functions:\n",
    "    plt.plot(np.linspace(-3, 5, 100), basis(np.linspace(-3, 5, 100)))\n",
    "plt.title(\"Gaussian basis functions\")\n",
    "plt.show()"
   ]
  },
  {
   "cell_type": "markdown",
   "metadata": {},
   "source": [
    "<details>\n",
    "<summary> Hint: </summary>\n",
    "Use `np.linspace(start, stop, num_points)` for the means\n",
    "</details>"
   ]
  },
  {
   "cell_type": "code",
   "execution_count": null,
   "metadata": {},
   "outputs": [],
   "source": [
    "# TODO: Select appropriate means and standard deviations for the basis functions for this data\n",
    "# Make a list of 10 `Gaussian` objects\n",
    "basis_functions = []\n",
    "#####\n",
    "\n",
    "xs_plot = np.linspace(30, 85, 1000)\n",
    "\n",
    "# Plot basis functions against data to ensure width and locations are reasonable\n",
    "# The height will not match, but the weights of the regression model will take care of that \n",
    "plt.scatter(x_train, y_train, s=2, c=\"k\")\n",
    "plt.xlabel(\"Length (mm)\")\n",
    "plt.ylabel(\"Normalized force (%)\")\n",
    "plt.twinx()\n",
    "for basis in basis_functions:\n",
    "    plt.plot(xs_plot, basis(xs_plot))\n",
    "plt.ylabel(\"Basis function value\")\n",
    "plt.show()"
   ]
  },
  {
   "cell_type": "code",
   "execution_count": null,
   "metadata": {},
   "outputs": [],
   "source": [
    "# Create a function that evaluates the basis functions on an input vector\n",
    "def eval_basis_functions(x, basis_functions):\n",
    "    \"\"\"\n",
    "    :param x: array of input values, size (n,)\n",
    "    :param basis_functions: list of length k of basis function objects whose call method evaluates them\n",
    "\n",
    "    :return: array of values of basis functions evaluated at points in x, shape (n, k)\n",
    "    \"\"\"\n",
    "    # TODO: Complete the implementation of this function\n",
    "    return None\n",
    "    #####"
   ]
  },
  {
   "cell_type": "markdown",
   "metadata": {},
   "source": [
    "<details>\n",
    "<summary> Hint: </summary>\n",
    "scikit-learn documentation: <a href=\"https://scikit-learn.org/stable/modules/generated/sklearn.linear_model.Ridge.html\">Ridge</a>\n",
    "\n",
    "</details>"
   ]
  },
  {
   "cell_type": "code",
   "execution_count": null,
   "metadata": {},
   "outputs": [],
   "source": [
    "# TODO: Instantiate a ridge regression model\n",
    "model = None\n",
    "#####\n",
    "\n",
    "# TODO: Fit the model on the features produced by evaluating basis functions\n",
    "\n",
    "#####"
   ]
  },
  {
   "cell_type": "markdown",
   "metadata": {},
   "source": [
    "<details>\n",
    "<summary> Hint: </summary>\n",
    "What is the loss function for linear regression? Check the imports at the top for which function to use.\n",
    "</details>"
   ]
  },
  {
   "cell_type": "code",
   "execution_count": null,
   "metadata": {},
   "outputs": [],
   "source": [
    "# TODO: Compute the error on the test and train sets\n",
    "train_error = None\n",
    "\n",
    "test_error = None\n",
    "#####\n",
    "\n",
    "print(f\"Train error: {train_error:>7.2f}\")\n",
    "print(f\" Test error: {test_error:>7.2f}\")"
   ]
  },
  {
   "cell_type": "code",
   "execution_count": null,
   "metadata": {},
   "outputs": [],
   "source": [
    "# Plot the predictions of the model on the input of `xs_plot`\n",
    "plt.plot()\n",
    "#####\n",
    "plt.scatter(x_test, y_test, c=\"r\", s=2)\n",
    "plt.scatter(x_train, y_train, c=\"k\", s=2)\n",
    "plt.xlabel(\"Length (mm)\")\n",
    "plt.ylabel(\"Normalized force (%)\")\n",
    "plt.show()"
   ]
  },
  {
   "cell_type": "markdown",
   "metadata": {},
   "source": [
    "**Question**: Why should we not apply this regression model to a muscle length of 80 mm?"
   ]
  },
  {
   "cell_type": "markdown",
   "metadata": {},
   "source": [
    "# Section 2: What is the effect of the number of basis functions?\n",
    "\n",
    "TODO:\n",
    "- Create a set of means and standard deviations for N Gaussian basis functions, where N = [1, 3, 5, 7, 10, 30]\n",
    "- Train a model for each set of basis functions and collect the train/test errors\n",
    "- Examine the plot of the train/test errors against number of basis functions"
   ]
  },
  {
   "cell_type": "code",
   "execution_count": null,
   "metadata": {},
   "outputs": [],
   "source": [
    "num_bases = [1, 3, 5, 7, 10, 30]\n",
    "\n",
    "# List of arrays of means, each array should be the length of the number of bases\n",
    "basis_means = [\n",
    "\n",
    "]\n",
    "# One sigma for each set of basis functions\n",
    "basis_sigmas = []\n",
    "#####\n",
    "all_basis_functions = [[Gaussian(mu, sigma) for mu in means] for means, sigma in zip(basis_means, basis_sigmas)]"
   ]
  },
  {
   "cell_type": "code",
   "execution_count": null,
   "metadata": {},
   "outputs": [],
   "source": [
    "# Plotting code copied for testing out numbers\n",
    "means = []\n",
    "sigma = None\n",
    "basis_functions = []\n",
    "\n",
    "xs_plot = np.linspace(30, 85, 1000)\n",
    "\n",
    "plt.scatter(x_train, y_train, s=2, c=\"k\")\n",
    "plt.xlabel(\"Length (mm)\")\n",
    "plt.ylabel(\"Normalized force (%)\")\n",
    "plt.twinx()\n",
    "for basis in basis_functions:\n",
    "    plt.plot(xs_plot, basis(xs_plot))\n",
    "plt.ylabel(\"Basis function value\")\n",
    "plt.show()"
   ]
  },
  {
   "cell_type": "code",
   "execution_count": null,
   "metadata": {},
   "outputs": [],
   "source": [
    "# Train the models\n",
    "test_errors = []\n",
    "train_errors = []\n",
    "\n",
    "for basis_functions in all_basis_functions:\n",
    "    # TODO: Train a model with this set of basis functions, append train/test errors to lists above\n",
    "    train_errors.append(None)\n",
    "\n",
    "    test_errors.append(None)\n",
    "    ##### "
   ]
  },
  {
   "cell_type": "code",
   "execution_count": null,
   "metadata": {},
   "outputs": [],
   "source": [
    "# Plot results\n",
    "plt.plot(num_bases, train_errors, \"bo-\", label=\"Train error\")\n",
    "plt.plot(num_bases, test_errors, \"ro-\", label=\"Test error\")\n",
    "plt.ylabel(\"MSE\")\n",
    "plt.xlabel(\"Number of basis functions\")\n",
    "plt.grid()\n",
    "plt.legend()\n",
    "plt.show()"
   ]
  },
  {
   "cell_type": "markdown",
   "metadata": {},
   "source": [
    "**Question**: What is the optimal number of basis functions? In which number of basis functions is the model overfitting? For which number of basis functions is the model overfitting?"
   ]
  },
  {
   "cell_type": "markdown",
   "metadata": {},
   "source": [
    "**Question**: Plot `xs_plot` and the model output for the best number of basis functions and the one with 20 basis functions. What do you observe about the plots of the model that overfits?"
   ]
  },
  {
   "cell_type": "code",
   "execution_count": null,
   "metadata": {},
   "outputs": [],
   "source": [
    "# TODO: Plot the curve over `xs_plot` for the best model here\n",
    "best_num_basis_functions = None\n",
    "#####\n",
    "\n",
    "plt.scatter(x_test, y_test, c=\"r\", s=2)\n",
    "plt.scatter(x_train, y_train, c=\"k\", s=2)\n",
    "plt.xlabel(\"Length (mm)\")\n",
    "plt.ylabel(\"Normalized force (%)\")\n",
    "plt.title(\"{best_num_basis_functions} basis functions\")\n",
    "plt.show()"
   ]
  },
  {
   "cell_type": "code",
   "execution_count": null,
   "metadata": {},
   "outputs": [],
   "source": [
    "# TODO: Plot the curve over `xs_plot` for the 20 basis function model here\n",
    "#####\n",
    "\n",
    "plt.plot(xs_plot, model.predict(eval_basis_functions(xs_plot, basis_functions)))\n",
    "plt.scatter(x_test, y_test, c=\"r\", s=2)\n",
    "plt.scatter(x_train, y_train, c=\"k\", s=2)\n",
    "plt.xlabel(\"Length (mm)\")\n",
    "plt.ylabel(\"Normalized force (%)\")\n",
    "plt.title(\"20 basis functions\")\n",
    "plt.show()"
   ]
  },
  {
   "cell_type": "markdown",
   "metadata": {},
   "source": [
    "# Section 3: ReLU Basis Functions\n",
    "TODO:\n",
    "- Complete the ReLU basis function class\n",
    "- Train a model with 5 basis functions\n",
    "- Make the same plot of errors against number of basis functions\n",
    "\n",
    "\n",
    "A shifted ReLU has the following formula:\n",
    "\n",
    "$$y = \\text{ReLU}(x, c) = \\begin{cases}\n",
    "    0 & \\text{if} \\ x < c, \\\\\n",
    "    x - c & \\text{if} \\ x >= c\n",
    "\\end{cases}\n",
    "$$"
   ]
  },
  {
   "cell_type": "code",
   "execution_count": null,
   "metadata": {},
   "outputs": [],
   "source": [
    "class Relu:\n",
    "    def __init__(self, centre):\n",
    "        \"\"\"\n",
    "        Class to represent a shifted linear rectfied unit (ReLU)\n",
    "\n",
    "        :param centre: Centre of the rectifier\n",
    "        \"\"\"\n",
    "        self.centre = centre\n",
    "\n",
    "    def __call__(self, x):\n",
    "        \"\"\"\n",
    "        :param x: array of input values for the kernel function\n",
    "        :return: values of the kernel function evaluated at x\n",
    "        \"\"\"\n",
    "        # TODO: Fill in the equation for ReLU\n",
    "        y = None\n",
    "        #####\n",
    "        return y\n",
    "    \n",
    "    def __repr__(self):\n",
    "        return f\"Relu(centre={self.centre:.2f})\""
   ]
  },
  {
   "cell_type": "code",
   "execution_count": null,
   "metadata": {},
   "outputs": [],
   "source": [
    "# Test your implementation and compare to the slides\n",
    "basis_functions = [Relu(c) for c in [0, 1, 2]]\n",
    "\n",
    "for basis in basis_functions:\n",
    "    plt.plot(np.linspace(-3, 5, 100), basis(np.linspace(-3, 5, 100)))\n",
    "plt.title(\"ReLU basis functions\")\n",
    "plt.show()"
   ]
  },
  {
   "cell_type": "code",
   "execution_count": null,
   "metadata": {},
   "outputs": [],
   "source": [
    "# TODO: Select appropriate centres for the ReLU basis functions for this dataset\n",
    "# Use 5 basis functions\n",
    "basis_functions = []\n",
    "#####\n",
    "\n",
    "xs_plot = np.linspace(30, 80, 1000)\n",
    "\n",
    "plt.scatter(x_train, y_train, s=2, c=\"k\")\n",
    "plt.xlabel(\"Length (mm)\")\n",
    "plt.ylabel(\"Normalized force (%)\") \n",
    "plt.twinx()\n",
    "for basis in basis_functions:\n",
    "    plt.plot(xs_plot, basis(xs_plot))\n",
    "plt.ylabel(\"Basis function value\")\n",
    "plt.show()"
   ]
  },
  {
   "cell_type": "code",
   "execution_count": null,
   "metadata": {},
   "outputs": [],
   "source": [
    "# TODO: Train a model and report the train/test error.\n",
    "\n",
    "train_error = None\n",
    "\n",
    "test_error = None\n",
    "#####\n",
    "print(f\"Train error: {train_error:>7.2f}\")\n",
    "print(f\" Test error: {test_error:>7.2f}\")"
   ]
  },
  {
   "cell_type": "code",
   "execution_count": null,
   "metadata": {},
   "outputs": [],
   "source": [
    "# TODO: Plot the model against the dataset using `xs_plot`\n",
    "\n",
    "#####\n",
    "plt.scatter(x_train, y_train, c=\"k\", s=2)\n",
    "plt.scatter(x_test, y_test, c=\"r\", s=2)\n",
    "plt.show()\n",
    "plt.xlabel(\"Length (mm)\")\n",
    "plt.ylabel(\"Normalized force (%)\")\n",
    "plt.show()"
   ]
  },
  {
   "cell_type": "markdown",
   "metadata": {},
   "source": [
    "**Question**: Explain why a linear combination of shifted ReLU features is able to replicate this peaked shape."
   ]
  },
  {
   "cell_type": "code",
   "execution_count": null,
   "metadata": {},
   "outputs": [],
   "source": [
    "num_bases = np.arange(3, 30, 1)\n",
    "\n",
    "test_errors = []\n",
    "train_errors = []\n",
    "\n",
    "# TODO: Train several models with between 3 and 30 basis functions\n",
    "for n in num_bases:\n",
    "    basis_functions = []\n",
    "\n",
    "    train_errors.append(None)\n",
    "\n",
    "    test_errors.append(None)\n",
    "#####"
   ]
  },
  {
   "cell_type": "code",
   "execution_count": null,
   "metadata": {},
   "outputs": [],
   "source": [
    "# Plot errors against number of basis functions\n",
    "plt.plot(num_bases, train_errors, \"bo-\", label=\"Train error\")\n",
    "plt.plot(num_bases, test_errors, \"ro-\", label=\"Test error\")\n",
    "plt.ylabel(\"MSE\")\n",
    "plt.xlabel(\"Number of basis functions\")\n",
    "plt.grid()\n",
    "plt.legend()\n",
    "plt.title(\"ReLU Basis Functions\")\n",
    "plt.show()"
   ]
  },
  {
   "cell_type": "markdown",
   "metadata": {},
   "source": [
    "**Question**: Which number of ReLU basis functions would you choose and why?\n",
    "\n",
    "**Question**: What is one drawback of applying this approach of parameterized basis functions to arbitrary problems?"
   ]
  }
 ],
 "metadata": {
  "kernelspec": {
   "display_name": "datasci",
   "language": "python",
   "name": "python3"
  },
  "language_info": {
   "codemirror_mode": {
    "name": "ipython",
    "version": 3
   },
   "file_extension": ".py",
   "mimetype": "text/x-python",
   "name": "python",
   "nbconvert_exporter": "python",
   "pygments_lexer": "ipython3",
   "version": "3.10.12"
  },
  "orig_nbformat": 4
 },
 "nbformat": 4,
 "nbformat_minor": 2
}
